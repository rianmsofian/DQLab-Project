{
  "nbformat": 4,
  "nbformat_minor": 0,
  "metadata": {
    "colab": {
      "provenance": [],
      "authorship_tag": "ABX9TyOjDXlzwxeiVvWV0mJwCZ37",
      "include_colab_link": true
    },
    "kernelspec": {
      "name": "python3",
      "display_name": "Python 3"
    },
    "language_info": {
      "name": "python"
    }
  },
  "cells": [
    {
      "cell_type": "markdown",
      "metadata": {
        "id": "view-in-github",
        "colab_type": "text"
      },
      "source": [
        "<a href=\"https://colab.research.google.com/github/rianmsofian/DQLab-Project/blob/main/Rian_Muhammad_Sofian_Project.ipynb\" target=\"_parent\"><img src=\"https://colab.research.google.com/assets/colab-badge.svg\" alt=\"Open In Colab\"/></a>"
      ]
    },
    {
      "cell_type": "markdown",
      "source": [
        "# **Preparation**\n",
        "\n",
        "---\n",
        "\n",
        "\n",
        "\n"
      ],
      "metadata": {
        "id": "p1eb5S5E7ydp"
      }
    },
    {
      "cell_type": "code",
      "execution_count": 1,
      "metadata": {
        "id": "eERok_DN6-2i"
      },
      "outputs": [],
      "source": [
        "# Import library\n",
        "import pandas as pd\n",
        "import matplotlib.pyplot as plt\n",
        "import seaborn as sns"
      ]
    },
    {
      "cell_type": "code",
      "source": [
        "# Load dataset\n",
        "df = pd.read_excel('SuperStore.xlsx')"
      ],
      "metadata": {
        "id": "rPxHhsHM8mfd"
      },
      "execution_count": 2,
      "outputs": []
    },
    {
      "cell_type": "markdown",
      "source": [
        "# **Data Cleaning**\n",
        "\n",
        "---\n",
        "\n"
      ],
      "metadata": {
        "id": "USdWIu_48hCF"
      }
    },
    {
      "cell_type": "code",
      "source": [
        "# Checking for missing value\n",
        "missing_values = df.isnull().sum()\n",
        "print(missing_values)"
      ],
      "metadata": {
        "colab": {
          "base_uri": "https://localhost:8080/"
        },
        "id": "cje1ng_b8k0r",
        "outputId": "18c71a44-5252-4096-b332-ac2fb10d814b"
      },
      "execution_count": 3,
      "outputs": [
        {
          "output_type": "stream",
          "name": "stdout",
          "text": [
            "Order_ID          0\n",
            "Customer_ID       0\n",
            "Postal_Code       0\n",
            "Product_ID        0\n",
            "Sales             0\n",
            "Quantity          0\n",
            "Discount          0\n",
            "Profit            0\n",
            "Category          0\n",
            "Sub-Category      0\n",
            "Product_Name      0\n",
            "Order_Date        0\n",
            "Ship_Date         0\n",
            "Ship_Mode         0\n",
            "Customer_Name     0\n",
            "Segment           0\n",
            "Country/Region    0\n",
            "City              0\n",
            "State             0\n",
            "Region            0\n",
            "dtype: int64\n"
          ]
        }
      ]
    },
    {
      "cell_type": "code",
      "source": [
        "# See 5 colomn\n",
        "display(df.head())"
      ],
      "metadata": {
        "colab": {
          "base_uri": "https://localhost:8080/",
          "height": 538
        },
        "id": "jBeEybNK9d4S",
        "outputId": "ac365283-2029-4dd2-bc6c-f5f2ef365d90"
      },
      "execution_count": 4,
      "outputs": [
        {
          "output_type": "display_data",
          "data": {
            "text/plain": [
              "         Order_ID Customer_ID  Postal_Code       Product_ID     Sales  \\\n",
              "0  CA-2019-152156    CG-12520        42420  FUR-BO-10001798  261.9600   \n",
              "1  CA-2019-152156    CG-12520        42420  FUR-CH-10000454  731.9400   \n",
              "2  CA-2019-138688    DV-13045        90036  OFF-LA-10000240   14.6200   \n",
              "3  US-2018-108966    SO-20335        33311  FUR-TA-10000577  957.5775   \n",
              "4  US-2018-108966    SO-20335        33311  OFF-ST-10000760   22.3680   \n",
              "\n",
              "   Quantity  Discount    Profit         Category Sub-Category  \\\n",
              "0         2      0.00   41.9136        Furniture    Bookcases   \n",
              "1         3      0.00  219.5820        Furniture       Chairs   \n",
              "2         2      0.00    6.8714  Office Supplies       Labels   \n",
              "3         5      0.45 -383.0310        Furniture       Tables   \n",
              "4         2      0.20    2.5164  Office Supplies      Storage   \n",
              "\n",
              "                                        Product_Name Order_Date  Ship_Date  \\\n",
              "0                  Bush Somerset Collection Bookcase 2019-11-08 2019-11-11   \n",
              "1  Hon Deluxe Fabric Upholstered Stacking Chairs,... 2019-11-08 2019-11-11   \n",
              "2  Self-Adhesive Address Labels for Typewriters b... 2019-06-12 2019-06-16   \n",
              "3      Bretford CR4500 Series Slim Rectangular Table 2018-10-11 2018-10-18   \n",
              "4                     Eldon Fold 'N Roll Cart System 2018-10-11 2018-10-18   \n",
              "\n",
              "        Ship_Mode    Customer_Name    Segment Country/Region             City  \\\n",
              "0    Second Class      Claire Gute   Consumer  United States        Henderson   \n",
              "1    Second Class      Claire Gute   Consumer  United States        Henderson   \n",
              "2    Second Class  Darrin Van Huff  Corporate  United States      Los Angeles   \n",
              "3  Standard Class   Sean O'Donnell   Consumer  United States  Fort Lauderdale   \n",
              "4  Standard Class   Sean O'Donnell   Consumer  United States  Fort Lauderdale   \n",
              "\n",
              "        State Region  \n",
              "0    Kentucky  South  \n",
              "1    Kentucky  South  \n",
              "2  California   West  \n",
              "3     Florida  South  \n",
              "4     Florida  South  "
            ],
            "text/html": [
              "\n",
              "  <div id=\"df-0d3201f5-1e8e-417f-a6f4-88cca6e8005f\" class=\"colab-df-container\">\n",
              "    <div>\n",
              "<style scoped>\n",
              "    .dataframe tbody tr th:only-of-type {\n",
              "        vertical-align: middle;\n",
              "    }\n",
              "\n",
              "    .dataframe tbody tr th {\n",
              "        vertical-align: top;\n",
              "    }\n",
              "\n",
              "    .dataframe thead th {\n",
              "        text-align: right;\n",
              "    }\n",
              "</style>\n",
              "<table border=\"1\" class=\"dataframe\">\n",
              "  <thead>\n",
              "    <tr style=\"text-align: right;\">\n",
              "      <th></th>\n",
              "      <th>Order_ID</th>\n",
              "      <th>Customer_ID</th>\n",
              "      <th>Postal_Code</th>\n",
              "      <th>Product_ID</th>\n",
              "      <th>Sales</th>\n",
              "      <th>Quantity</th>\n",
              "      <th>Discount</th>\n",
              "      <th>Profit</th>\n",
              "      <th>Category</th>\n",
              "      <th>Sub-Category</th>\n",
              "      <th>Product_Name</th>\n",
              "      <th>Order_Date</th>\n",
              "      <th>Ship_Date</th>\n",
              "      <th>Ship_Mode</th>\n",
              "      <th>Customer_Name</th>\n",
              "      <th>Segment</th>\n",
              "      <th>Country/Region</th>\n",
              "      <th>City</th>\n",
              "      <th>State</th>\n",
              "      <th>Region</th>\n",
              "    </tr>\n",
              "  </thead>\n",
              "  <tbody>\n",
              "    <tr>\n",
              "      <th>0</th>\n",
              "      <td>CA-2019-152156</td>\n",
              "      <td>CG-12520</td>\n",
              "      <td>42420</td>\n",
              "      <td>FUR-BO-10001798</td>\n",
              "      <td>261.9600</td>\n",
              "      <td>2</td>\n",
              "      <td>0.00</td>\n",
              "      <td>41.9136</td>\n",
              "      <td>Furniture</td>\n",
              "      <td>Bookcases</td>\n",
              "      <td>Bush Somerset Collection Bookcase</td>\n",
              "      <td>2019-11-08</td>\n",
              "      <td>2019-11-11</td>\n",
              "      <td>Second Class</td>\n",
              "      <td>Claire Gute</td>\n",
              "      <td>Consumer</td>\n",
              "      <td>United States</td>\n",
              "      <td>Henderson</td>\n",
              "      <td>Kentucky</td>\n",
              "      <td>South</td>\n",
              "    </tr>\n",
              "    <tr>\n",
              "      <th>1</th>\n",
              "      <td>CA-2019-152156</td>\n",
              "      <td>CG-12520</td>\n",
              "      <td>42420</td>\n",
              "      <td>FUR-CH-10000454</td>\n",
              "      <td>731.9400</td>\n",
              "      <td>3</td>\n",
              "      <td>0.00</td>\n",
              "      <td>219.5820</td>\n",
              "      <td>Furniture</td>\n",
              "      <td>Chairs</td>\n",
              "      <td>Hon Deluxe Fabric Upholstered Stacking Chairs,...</td>\n",
              "      <td>2019-11-08</td>\n",
              "      <td>2019-11-11</td>\n",
              "      <td>Second Class</td>\n",
              "      <td>Claire Gute</td>\n",
              "      <td>Consumer</td>\n",
              "      <td>United States</td>\n",
              "      <td>Henderson</td>\n",
              "      <td>Kentucky</td>\n",
              "      <td>South</td>\n",
              "    </tr>\n",
              "    <tr>\n",
              "      <th>2</th>\n",
              "      <td>CA-2019-138688</td>\n",
              "      <td>DV-13045</td>\n",
              "      <td>90036</td>\n",
              "      <td>OFF-LA-10000240</td>\n",
              "      <td>14.6200</td>\n",
              "      <td>2</td>\n",
              "      <td>0.00</td>\n",
              "      <td>6.8714</td>\n",
              "      <td>Office Supplies</td>\n",
              "      <td>Labels</td>\n",
              "      <td>Self-Adhesive Address Labels for Typewriters b...</td>\n",
              "      <td>2019-06-12</td>\n",
              "      <td>2019-06-16</td>\n",
              "      <td>Second Class</td>\n",
              "      <td>Darrin Van Huff</td>\n",
              "      <td>Corporate</td>\n",
              "      <td>United States</td>\n",
              "      <td>Los Angeles</td>\n",
              "      <td>California</td>\n",
              "      <td>West</td>\n",
              "    </tr>\n",
              "    <tr>\n",
              "      <th>3</th>\n",
              "      <td>US-2018-108966</td>\n",
              "      <td>SO-20335</td>\n",
              "      <td>33311</td>\n",
              "      <td>FUR-TA-10000577</td>\n",
              "      <td>957.5775</td>\n",
              "      <td>5</td>\n",
              "      <td>0.45</td>\n",
              "      <td>-383.0310</td>\n",
              "      <td>Furniture</td>\n",
              "      <td>Tables</td>\n",
              "      <td>Bretford CR4500 Series Slim Rectangular Table</td>\n",
              "      <td>2018-10-11</td>\n",
              "      <td>2018-10-18</td>\n",
              "      <td>Standard Class</td>\n",
              "      <td>Sean O'Donnell</td>\n",
              "      <td>Consumer</td>\n",
              "      <td>United States</td>\n",
              "      <td>Fort Lauderdale</td>\n",
              "      <td>Florida</td>\n",
              "      <td>South</td>\n",
              "    </tr>\n",
              "    <tr>\n",
              "      <th>4</th>\n",
              "      <td>US-2018-108966</td>\n",
              "      <td>SO-20335</td>\n",
              "      <td>33311</td>\n",
              "      <td>OFF-ST-10000760</td>\n",
              "      <td>22.3680</td>\n",
              "      <td>2</td>\n",
              "      <td>0.20</td>\n",
              "      <td>2.5164</td>\n",
              "      <td>Office Supplies</td>\n",
              "      <td>Storage</td>\n",
              "      <td>Eldon Fold 'N Roll Cart System</td>\n",
              "      <td>2018-10-11</td>\n",
              "      <td>2018-10-18</td>\n",
              "      <td>Standard Class</td>\n",
              "      <td>Sean O'Donnell</td>\n",
              "      <td>Consumer</td>\n",
              "      <td>United States</td>\n",
              "      <td>Fort Lauderdale</td>\n",
              "      <td>Florida</td>\n",
              "      <td>South</td>\n",
              "    </tr>\n",
              "  </tbody>\n",
              "</table>\n",
              "</div>\n",
              "    <div class=\"colab-df-buttons\">\n",
              "\n",
              "  <div class=\"colab-df-container\">\n",
              "    <button class=\"colab-df-convert\" onclick=\"convertToInteractive('df-0d3201f5-1e8e-417f-a6f4-88cca6e8005f')\"\n",
              "            title=\"Convert this dataframe to an interactive table.\"\n",
              "            style=\"display:none;\">\n",
              "\n",
              "  <svg xmlns=\"http://www.w3.org/2000/svg\" height=\"24px\" viewBox=\"0 -960 960 960\">\n",
              "    <path d=\"M120-120v-720h720v720H120Zm60-500h600v-160H180v160Zm220 220h160v-160H400v160Zm0 220h160v-160H400v160ZM180-400h160v-160H180v160Zm440 0h160v-160H620v160ZM180-180h160v-160H180v160Zm440 0h160v-160H620v160Z\"/>\n",
              "  </svg>\n",
              "    </button>\n",
              "\n",
              "  <style>\n",
              "    .colab-df-container {\n",
              "      display:flex;\n",
              "      gap: 12px;\n",
              "    }\n",
              "\n",
              "    .colab-df-convert {\n",
              "      background-color: #E8F0FE;\n",
              "      border: none;\n",
              "      border-radius: 50%;\n",
              "      cursor: pointer;\n",
              "      display: none;\n",
              "      fill: #1967D2;\n",
              "      height: 32px;\n",
              "      padding: 0 0 0 0;\n",
              "      width: 32px;\n",
              "    }\n",
              "\n",
              "    .colab-df-convert:hover {\n",
              "      background-color: #E2EBFA;\n",
              "      box-shadow: 0px 1px 2px rgba(60, 64, 67, 0.3), 0px 1px 3px 1px rgba(60, 64, 67, 0.15);\n",
              "      fill: #174EA6;\n",
              "    }\n",
              "\n",
              "    .colab-df-buttons div {\n",
              "      margin-bottom: 4px;\n",
              "    }\n",
              "\n",
              "    [theme=dark] .colab-df-convert {\n",
              "      background-color: #3B4455;\n",
              "      fill: #D2E3FC;\n",
              "    }\n",
              "\n",
              "    [theme=dark] .colab-df-convert:hover {\n",
              "      background-color: #434B5C;\n",
              "      box-shadow: 0px 1px 3px 1px rgba(0, 0, 0, 0.15);\n",
              "      filter: drop-shadow(0px 1px 2px rgba(0, 0, 0, 0.3));\n",
              "      fill: #FFFFFF;\n",
              "    }\n",
              "  </style>\n",
              "\n",
              "    <script>\n",
              "      const buttonEl =\n",
              "        document.querySelector('#df-0d3201f5-1e8e-417f-a6f4-88cca6e8005f button.colab-df-convert');\n",
              "      buttonEl.style.display =\n",
              "        google.colab.kernel.accessAllowed ? 'block' : 'none';\n",
              "\n",
              "      async function convertToInteractive(key) {\n",
              "        const element = document.querySelector('#df-0d3201f5-1e8e-417f-a6f4-88cca6e8005f');\n",
              "        const dataTable =\n",
              "          await google.colab.kernel.invokeFunction('convertToInteractive',\n",
              "                                                    [key], {});\n",
              "        if (!dataTable) return;\n",
              "\n",
              "        const docLinkHtml = 'Like what you see? Visit the ' +\n",
              "          '<a target=\"_blank\" href=https://colab.research.google.com/notebooks/data_table.ipynb>data table notebook</a>'\n",
              "          + ' to learn more about interactive tables.';\n",
              "        element.innerHTML = '';\n",
              "        dataTable['output_type'] = 'display_data';\n",
              "        await google.colab.output.renderOutput(dataTable, element);\n",
              "        const docLink = document.createElement('div');\n",
              "        docLink.innerHTML = docLinkHtml;\n",
              "        element.appendChild(docLink);\n",
              "      }\n",
              "    </script>\n",
              "  </div>\n",
              "\n",
              "\n",
              "<div id=\"df-0a70a23b-ee04-4062-a302-d1f1d1855b6b\">\n",
              "  <button class=\"colab-df-quickchart\" onclick=\"quickchart('df-0a70a23b-ee04-4062-a302-d1f1d1855b6b')\"\n",
              "            title=\"Suggest charts\"\n",
              "            style=\"display:none;\">\n",
              "\n",
              "<svg xmlns=\"http://www.w3.org/2000/svg\" height=\"24px\"viewBox=\"0 0 24 24\"\n",
              "     width=\"24px\">\n",
              "    <g>\n",
              "        <path d=\"M19 3H5c-1.1 0-2 .9-2 2v14c0 1.1.9 2 2 2h14c1.1 0 2-.9 2-2V5c0-1.1-.9-2-2-2zM9 17H7v-7h2v7zm4 0h-2V7h2v10zm4 0h-2v-4h2v4z\"/>\n",
              "    </g>\n",
              "</svg>\n",
              "  </button>\n",
              "\n",
              "<style>\n",
              "  .colab-df-quickchart {\n",
              "      --bg-color: #E8F0FE;\n",
              "      --fill-color: #1967D2;\n",
              "      --hover-bg-color: #E2EBFA;\n",
              "      --hover-fill-color: #174EA6;\n",
              "      --disabled-fill-color: #AAA;\n",
              "      --disabled-bg-color: #DDD;\n",
              "  }\n",
              "\n",
              "  [theme=dark] .colab-df-quickchart {\n",
              "      --bg-color: #3B4455;\n",
              "      --fill-color: #D2E3FC;\n",
              "      --hover-bg-color: #434B5C;\n",
              "      --hover-fill-color: #FFFFFF;\n",
              "      --disabled-bg-color: #3B4455;\n",
              "      --disabled-fill-color: #666;\n",
              "  }\n",
              "\n",
              "  .colab-df-quickchart {\n",
              "    background-color: var(--bg-color);\n",
              "    border: none;\n",
              "    border-radius: 50%;\n",
              "    cursor: pointer;\n",
              "    display: none;\n",
              "    fill: var(--fill-color);\n",
              "    height: 32px;\n",
              "    padding: 0;\n",
              "    width: 32px;\n",
              "  }\n",
              "\n",
              "  .colab-df-quickchart:hover {\n",
              "    background-color: var(--hover-bg-color);\n",
              "    box-shadow: 0 1px 2px rgba(60, 64, 67, 0.3), 0 1px 3px 1px rgba(60, 64, 67, 0.15);\n",
              "    fill: var(--button-hover-fill-color);\n",
              "  }\n",
              "\n",
              "  .colab-df-quickchart-complete:disabled,\n",
              "  .colab-df-quickchart-complete:disabled:hover {\n",
              "    background-color: var(--disabled-bg-color);\n",
              "    fill: var(--disabled-fill-color);\n",
              "    box-shadow: none;\n",
              "  }\n",
              "\n",
              "  .colab-df-spinner {\n",
              "    border: 2px solid var(--fill-color);\n",
              "    border-color: transparent;\n",
              "    border-bottom-color: var(--fill-color);\n",
              "    animation:\n",
              "      spin 1s steps(1) infinite;\n",
              "  }\n",
              "\n",
              "  @keyframes spin {\n",
              "    0% {\n",
              "      border-color: transparent;\n",
              "      border-bottom-color: var(--fill-color);\n",
              "      border-left-color: var(--fill-color);\n",
              "    }\n",
              "    20% {\n",
              "      border-color: transparent;\n",
              "      border-left-color: var(--fill-color);\n",
              "      border-top-color: var(--fill-color);\n",
              "    }\n",
              "    30% {\n",
              "      border-color: transparent;\n",
              "      border-left-color: var(--fill-color);\n",
              "      border-top-color: var(--fill-color);\n",
              "      border-right-color: var(--fill-color);\n",
              "    }\n",
              "    40% {\n",
              "      border-color: transparent;\n",
              "      border-right-color: var(--fill-color);\n",
              "      border-top-color: var(--fill-color);\n",
              "    }\n",
              "    60% {\n",
              "      border-color: transparent;\n",
              "      border-right-color: var(--fill-color);\n",
              "    }\n",
              "    80% {\n",
              "      border-color: transparent;\n",
              "      border-right-color: var(--fill-color);\n",
              "      border-bottom-color: var(--fill-color);\n",
              "    }\n",
              "    90% {\n",
              "      border-color: transparent;\n",
              "      border-bottom-color: var(--fill-color);\n",
              "    }\n",
              "  }\n",
              "</style>\n",
              "\n",
              "  <script>\n",
              "    async function quickchart(key) {\n",
              "      const quickchartButtonEl =\n",
              "        document.querySelector('#' + key + ' button');\n",
              "      quickchartButtonEl.disabled = true;  // To prevent multiple clicks.\n",
              "      quickchartButtonEl.classList.add('colab-df-spinner');\n",
              "      try {\n",
              "        const charts = await google.colab.kernel.invokeFunction(\n",
              "            'suggestCharts', [key], {});\n",
              "      } catch (error) {\n",
              "        console.error('Error during call to suggestCharts:', error);\n",
              "      }\n",
              "      quickchartButtonEl.classList.remove('colab-df-spinner');\n",
              "      quickchartButtonEl.classList.add('colab-df-quickchart-complete');\n",
              "    }\n",
              "    (() => {\n",
              "      let quickchartButtonEl =\n",
              "        document.querySelector('#df-0a70a23b-ee04-4062-a302-d1f1d1855b6b button');\n",
              "      quickchartButtonEl.style.display =\n",
              "        google.colab.kernel.accessAllowed ? 'block' : 'none';\n",
              "    })();\n",
              "  </script>\n",
              "</div>\n",
              "\n",
              "    </div>\n",
              "  </div>\n"
            ],
            "application/vnd.google.colaboratory.intrinsic+json": {
              "type": "dataframe",
              "summary": "{\n  \"name\": \"display(df\",\n  \"rows\": 5,\n  \"fields\": [\n    {\n      \"column\": \"Order_ID\",\n      \"properties\": {\n        \"dtype\": \"string\",\n        \"num_unique_values\": 3,\n        \"samples\": [\n          \"CA-2019-152156\",\n          \"CA-2019-138688\",\n          \"US-2018-108966\"\n        ],\n        \"semantic_type\": \"\",\n        \"description\": \"\"\n      }\n    },\n    {\n      \"column\": \"Customer_ID\",\n      \"properties\": {\n        \"dtype\": \"string\",\n        \"num_unique_values\": 3,\n        \"samples\": [\n          \"CG-12520\",\n          \"DV-13045\",\n          \"SO-20335\"\n        ],\n        \"semantic_type\": \"\",\n        \"description\": \"\"\n      }\n    },\n    {\n      \"column\": \"Postal_Code\",\n      \"properties\": {\n        \"dtype\": \"number\",\n        \"std\": 23771,\n        \"min\": 33311,\n        \"max\": 90036,\n        \"num_unique_values\": 3,\n        \"samples\": [\n          42420,\n          90036,\n          33311\n        ],\n        \"semantic_type\": \"\",\n        \"description\": \"\"\n      }\n    },\n    {\n      \"column\": \"Product_ID\",\n      \"properties\": {\n        \"dtype\": \"string\",\n        \"num_unique_values\": 5,\n        \"samples\": [\n          \"FUR-CH-10000454\",\n          \"OFF-ST-10000760\",\n          \"OFF-LA-10000240\"\n        ],\n        \"semantic_type\": \"\",\n        \"description\": \"\"\n      }\n    },\n    {\n      \"column\": \"Sales\",\n      \"properties\": {\n        \"dtype\": \"number\",\n        \"std\": 427.5596264242568,\n        \"min\": 14.62,\n        \"max\": 957.5775,\n        \"num_unique_values\": 5,\n        \"samples\": [\n          731.94,\n          22.368,\n          14.62\n        ],\n        \"semantic_type\": \"\",\n        \"description\": \"\"\n      }\n    },\n    {\n      \"column\": \"Quantity\",\n      \"properties\": {\n        \"dtype\": \"number\",\n        \"std\": 1,\n        \"min\": 2,\n        \"max\": 5,\n        \"num_unique_values\": 3,\n        \"samples\": [\n          2,\n          3,\n          5\n        ],\n        \"semantic_type\": \"\",\n        \"description\": \"\"\n      }\n    },\n    {\n      \"column\": \"Discount\",\n      \"properties\": {\n        \"dtype\": \"number\",\n        \"std\": 0.19874606914351792,\n        \"min\": 0.0,\n        \"max\": 0.45,\n        \"num_unique_values\": 3,\n        \"samples\": [\n          0.0,\n          0.45,\n          0.2\n        ],\n        \"semantic_type\": \"\",\n        \"description\": \"\"\n      }\n    },\n    {\n      \"column\": \"Profit\",\n      \"properties\": {\n        \"dtype\": \"number\",\n        \"std\": 220.35419392408213,\n        \"min\": -383.031,\n        \"max\": 219.582,\n        \"num_unique_values\": 5,\n        \"samples\": [\n          219.582,\n          2.5164,\n          6.8714\n        ],\n        \"semantic_type\": \"\",\n        \"description\": \"\"\n      }\n    },\n    {\n      \"column\": \"Category\",\n      \"properties\": {\n        \"dtype\": \"category\",\n        \"num_unique_values\": 2,\n        \"samples\": [\n          \"Office Supplies\",\n          \"Furniture\"\n        ],\n        \"semantic_type\": \"\",\n        \"description\": \"\"\n      }\n    },\n    {\n      \"column\": \"Sub-Category\",\n      \"properties\": {\n        \"dtype\": \"string\",\n        \"num_unique_values\": 5,\n        \"samples\": [\n          \"Chairs\",\n          \"Storage\"\n        ],\n        \"semantic_type\": \"\",\n        \"description\": \"\"\n      }\n    },\n    {\n      \"column\": \"Product_Name\",\n      \"properties\": {\n        \"dtype\": \"string\",\n        \"num_unique_values\": 5,\n        \"samples\": [\n          \"Hon Deluxe Fabric Upholstered Stacking Chairs, Rounded Back\",\n          \"Eldon Fold 'N Roll Cart System\"\n        ],\n        \"semantic_type\": \"\",\n        \"description\": \"\"\n      }\n    },\n    {\n      \"column\": \"Order_Date\",\n      \"properties\": {\n        \"dtype\": \"date\",\n        \"min\": \"2018-10-11 00:00:00\",\n        \"max\": \"2019-11-08 00:00:00\",\n        \"num_unique_values\": 3,\n        \"samples\": [\n          \"2019-11-08 00:00:00\",\n          \"2019-06-12 00:00:00\"\n        ],\n        \"semantic_type\": \"\",\n        \"description\": \"\"\n      }\n    },\n    {\n      \"column\": \"Ship_Date\",\n      \"properties\": {\n        \"dtype\": \"date\",\n        \"min\": \"2018-10-18 00:00:00\",\n        \"max\": \"2019-11-11 00:00:00\",\n        \"num_unique_values\": 3,\n        \"samples\": [\n          \"2019-11-11 00:00:00\",\n          \"2019-06-16 00:00:00\"\n        ],\n        \"semantic_type\": \"\",\n        \"description\": \"\"\n      }\n    },\n    {\n      \"column\": \"Ship_Mode\",\n      \"properties\": {\n        \"dtype\": \"category\",\n        \"num_unique_values\": 2,\n        \"samples\": [\n          \"Standard Class\",\n          \"Second Class\"\n        ],\n        \"semantic_type\": \"\",\n        \"description\": \"\"\n      }\n    },\n    {\n      \"column\": \"Customer_Name\",\n      \"properties\": {\n        \"dtype\": \"string\",\n        \"num_unique_values\": 3,\n        \"samples\": [\n          \"Claire Gute\",\n          \"Darrin Van Huff\"\n        ],\n        \"semantic_type\": \"\",\n        \"description\": \"\"\n      }\n    },\n    {\n      \"column\": \"Segment\",\n      \"properties\": {\n        \"dtype\": \"category\",\n        \"num_unique_values\": 2,\n        \"samples\": [\n          \"Corporate\",\n          \"Consumer\"\n        ],\n        \"semantic_type\": \"\",\n        \"description\": \"\"\n      }\n    },\n    {\n      \"column\": \"Country/Region\",\n      \"properties\": {\n        \"dtype\": \"category\",\n        \"num_unique_values\": 1,\n        \"samples\": [\n          \"United States\"\n        ],\n        \"semantic_type\": \"\",\n        \"description\": \"\"\n      }\n    },\n    {\n      \"column\": \"City\",\n      \"properties\": {\n        \"dtype\": \"string\",\n        \"num_unique_values\": 3,\n        \"samples\": [\n          \"Henderson\"\n        ],\n        \"semantic_type\": \"\",\n        \"description\": \"\"\n      }\n    },\n    {\n      \"column\": \"State\",\n      \"properties\": {\n        \"dtype\": \"string\",\n        \"num_unique_values\": 3,\n        \"samples\": [\n          \"Kentucky\"\n        ],\n        \"semantic_type\": \"\",\n        \"description\": \"\"\n      }\n    },\n    {\n      \"column\": \"Region\",\n      \"properties\": {\n        \"dtype\": \"category\",\n        \"num_unique_values\": 2,\n        \"samples\": [\n          \"West\"\n        ],\n        \"semantic_type\": \"\",\n        \"description\": \"\"\n      }\n    }\n  ]\n}"
            }
          },
          "metadata": {}
        }
      ]
    },
    {
      "cell_type": "code",
      "source": [
        "# Check data type\n",
        "df.info()"
      ],
      "metadata": {
        "colab": {
          "base_uri": "https://localhost:8080/"
        },
        "id": "xA7O5Pr486cC",
        "outputId": "48af728b-99e5-4bd6-9c33-f10f1558413e"
      },
      "execution_count": 5,
      "outputs": [
        {
          "output_type": "stream",
          "name": "stdout",
          "text": [
            "<class 'pandas.core.frame.DataFrame'>\n",
            "RangeIndex: 9994 entries, 0 to 9993\n",
            "Data columns (total 20 columns):\n",
            " #   Column          Non-Null Count  Dtype         \n",
            "---  ------          --------------  -----         \n",
            " 0   Order_ID        9994 non-null   object        \n",
            " 1   Customer_ID     9994 non-null   object        \n",
            " 2   Postal_Code     9994 non-null   int64         \n",
            " 3   Product_ID      9994 non-null   object        \n",
            " 4   Sales           9994 non-null   float64       \n",
            " 5   Quantity        9994 non-null   int64         \n",
            " 6   Discount        9994 non-null   float64       \n",
            " 7   Profit          9994 non-null   float64       \n",
            " 8   Category        9994 non-null   object        \n",
            " 9   Sub-Category    9994 non-null   object        \n",
            " 10  Product_Name    9994 non-null   object        \n",
            " 11  Order_Date      9994 non-null   datetime64[ns]\n",
            " 12  Ship_Date       9994 non-null   datetime64[ns]\n",
            " 13  Ship_Mode       9994 non-null   object        \n",
            " 14  Customer_Name   9994 non-null   object        \n",
            " 15  Segment         9994 non-null   object        \n",
            " 16  Country/Region  9994 non-null   object        \n",
            " 17  City            9994 non-null   object        \n",
            " 18  State           9994 non-null   object        \n",
            " 19  Region          9994 non-null   object        \n",
            "dtypes: datetime64[ns](2), float64(3), int64(2), object(13)\n",
            "memory usage: 1.5+ MB\n"
          ]
        }
      ]
    },
    {
      "cell_type": "code",
      "source": [
        "# check for data duplicate\n",
        "duplicates = df.duplicated().sum()\n",
        "print(duplicates)"
      ],
      "metadata": {
        "colab": {
          "base_uri": "https://localhost:8080/"
        },
        "id": "1tBye_2l9ZJQ",
        "outputId": "d28f1ea8-68dd-44fe-c5e4-3fd9c995531a"
      },
      "execution_count": 6,
      "outputs": [
        {
          "output_type": "stream",
          "name": "stdout",
          "text": [
            "1\n"
          ]
        }
      ]
    },
    {
      "cell_type": "code",
      "source": [
        "# Clean data duplication\n",
        "df_cleaned = df.drop_duplicates()\n",
        "print(\"Data after clean duplication:\", df_cleaned.shape)"
      ],
      "metadata": {
        "colab": {
          "base_uri": "https://localhost:8080/"
        },
        "id": "_ThQf2tu-JOX",
        "outputId": "e59730c2-dfb1-4c6e-f405-7e3948436ca1"
      },
      "execution_count": 7,
      "outputs": [
        {
          "output_type": "stream",
          "name": "stdout",
          "text": [
            "Data after clean duplication: (9993, 20)\n"
          ]
        }
      ]
    },
    {
      "cell_type": "markdown",
      "source": [
        "# **Data Processing**\n",
        "\n",
        "---\n",
        "\n"
      ],
      "metadata": {
        "id": "4XGfDfeH_xXq"
      }
    },
    {
      "cell_type": "code",
      "source": [
        "# Convert Order_Date and Ship_Date to datetime\n",
        "df['Order_Date'] = pd.to_datetime(df['Order_Date'])\n",
        "df['Ship_Date'] = pd.to_datetime(df['Ship_Date'])"
      ],
      "metadata": {
        "id": "zJzWJGwK_2DF"
      },
      "execution_count": 8,
      "outputs": []
    },
    {
      "cell_type": "code",
      "source": [
        "# Extract month and year from Order_Date and Ship_Date\n",
        "df['Order_Month'] = df['Order_Date'].dt.month_name().str[:3]\n",
        "df['Ship_Month'] = df['Ship_Date'].dt.month_name().str[:3]\n",
        "df['Year_Order'] = df['Order_Date'].dt.year"
      ],
      "metadata": {
        "id": "ET3H3UEv_-V6"
      },
      "execution_count": 9,
      "outputs": []
    },
    {
      "cell_type": "code",
      "source": [
        "# Create a new feature 'Profit Margin'\n",
        "df['Profit Margin'] = df['Profit'] / df['Sales']"
      ],
      "metadata": {
        "id": "D6ER-rDkB-2m"
      },
      "execution_count": 10,
      "outputs": []
    },
    {
      "cell_type": "markdown",
      "source": [
        "#**EDA and Visualization**\n",
        "\n",
        "---\n",
        "\n"
      ],
      "metadata": {
        "id": "dkJvZBQF-kKb"
      }
    },
    {
      "cell_type": "code",
      "source": [
        "# Descriptive statistics\n",
        "df[['Quantity', 'Discount', 'Sales', 'Profit']].describe()"
      ],
      "metadata": {
        "colab": {
          "base_uri": "https://localhost:8080/",
          "height": 300
        },
        "id": "LO8Ul4Qp_Lb8",
        "outputId": "def7b8e9-09c5-40f7-cc12-38f9d23e23f4"
      },
      "execution_count": 12,
      "outputs": [
        {
          "output_type": "execute_result",
          "data": {
            "text/plain": [
              "          Quantity     Discount         Sales       Profit\n",
              "count  9994.000000  9994.000000   9994.000000  9994.000000\n",
              "mean      3.789574     0.156203    229.858001    28.656896\n",
              "std       2.225110     0.206452    623.245101   234.260108\n",
              "min       1.000000     0.000000      0.444000 -6599.978000\n",
              "25%       2.000000     0.000000     17.280000     1.728750\n",
              "50%       3.000000     0.200000     54.490000     8.666500\n",
              "75%       5.000000     0.200000    209.940000    29.364000\n",
              "max      14.000000     0.800000  22638.480000  8399.976000"
            ],
            "text/html": [
              "\n",
              "  <div id=\"df-ebee95bc-4d3f-4732-b0f6-5a6ebcc1aa59\" class=\"colab-df-container\">\n",
              "    <div>\n",
              "<style scoped>\n",
              "    .dataframe tbody tr th:only-of-type {\n",
              "        vertical-align: middle;\n",
              "    }\n",
              "\n",
              "    .dataframe tbody tr th {\n",
              "        vertical-align: top;\n",
              "    }\n",
              "\n",
              "    .dataframe thead th {\n",
              "        text-align: right;\n",
              "    }\n",
              "</style>\n",
              "<table border=\"1\" class=\"dataframe\">\n",
              "  <thead>\n",
              "    <tr style=\"text-align: right;\">\n",
              "      <th></th>\n",
              "      <th>Quantity</th>\n",
              "      <th>Discount</th>\n",
              "      <th>Sales</th>\n",
              "      <th>Profit</th>\n",
              "    </tr>\n",
              "  </thead>\n",
              "  <tbody>\n",
              "    <tr>\n",
              "      <th>count</th>\n",
              "      <td>9994.000000</td>\n",
              "      <td>9994.000000</td>\n",
              "      <td>9994.000000</td>\n",
              "      <td>9994.000000</td>\n",
              "    </tr>\n",
              "    <tr>\n",
              "      <th>mean</th>\n",
              "      <td>3.789574</td>\n",
              "      <td>0.156203</td>\n",
              "      <td>229.858001</td>\n",
              "      <td>28.656896</td>\n",
              "    </tr>\n",
              "    <tr>\n",
              "      <th>std</th>\n",
              "      <td>2.225110</td>\n",
              "      <td>0.206452</td>\n",
              "      <td>623.245101</td>\n",
              "      <td>234.260108</td>\n",
              "    </tr>\n",
              "    <tr>\n",
              "      <th>min</th>\n",
              "      <td>1.000000</td>\n",
              "      <td>0.000000</td>\n",
              "      <td>0.444000</td>\n",
              "      <td>-6599.978000</td>\n",
              "    </tr>\n",
              "    <tr>\n",
              "      <th>25%</th>\n",
              "      <td>2.000000</td>\n",
              "      <td>0.000000</td>\n",
              "      <td>17.280000</td>\n",
              "      <td>1.728750</td>\n",
              "    </tr>\n",
              "    <tr>\n",
              "      <th>50%</th>\n",
              "      <td>3.000000</td>\n",
              "      <td>0.200000</td>\n",
              "      <td>54.490000</td>\n",
              "      <td>8.666500</td>\n",
              "    </tr>\n",
              "    <tr>\n",
              "      <th>75%</th>\n",
              "      <td>5.000000</td>\n",
              "      <td>0.200000</td>\n",
              "      <td>209.940000</td>\n",
              "      <td>29.364000</td>\n",
              "    </tr>\n",
              "    <tr>\n",
              "      <th>max</th>\n",
              "      <td>14.000000</td>\n",
              "      <td>0.800000</td>\n",
              "      <td>22638.480000</td>\n",
              "      <td>8399.976000</td>\n",
              "    </tr>\n",
              "  </tbody>\n",
              "</table>\n",
              "</div>\n",
              "    <div class=\"colab-df-buttons\">\n",
              "\n",
              "  <div class=\"colab-df-container\">\n",
              "    <button class=\"colab-df-convert\" onclick=\"convertToInteractive('df-ebee95bc-4d3f-4732-b0f6-5a6ebcc1aa59')\"\n",
              "            title=\"Convert this dataframe to an interactive table.\"\n",
              "            style=\"display:none;\">\n",
              "\n",
              "  <svg xmlns=\"http://www.w3.org/2000/svg\" height=\"24px\" viewBox=\"0 -960 960 960\">\n",
              "    <path d=\"M120-120v-720h720v720H120Zm60-500h600v-160H180v160Zm220 220h160v-160H400v160Zm0 220h160v-160H400v160ZM180-400h160v-160H180v160Zm440 0h160v-160H620v160ZM180-180h160v-160H180v160Zm440 0h160v-160H620v160Z\"/>\n",
              "  </svg>\n",
              "    </button>\n",
              "\n",
              "  <style>\n",
              "    .colab-df-container {\n",
              "      display:flex;\n",
              "      gap: 12px;\n",
              "    }\n",
              "\n",
              "    .colab-df-convert {\n",
              "      background-color: #E8F0FE;\n",
              "      border: none;\n",
              "      border-radius: 50%;\n",
              "      cursor: pointer;\n",
              "      display: none;\n",
              "      fill: #1967D2;\n",
              "      height: 32px;\n",
              "      padding: 0 0 0 0;\n",
              "      width: 32px;\n",
              "    }\n",
              "\n",
              "    .colab-df-convert:hover {\n",
              "      background-color: #E2EBFA;\n",
              "      box-shadow: 0px 1px 2px rgba(60, 64, 67, 0.3), 0px 1px 3px 1px rgba(60, 64, 67, 0.15);\n",
              "      fill: #174EA6;\n",
              "    }\n",
              "\n",
              "    .colab-df-buttons div {\n",
              "      margin-bottom: 4px;\n",
              "    }\n",
              "\n",
              "    [theme=dark] .colab-df-convert {\n",
              "      background-color: #3B4455;\n",
              "      fill: #D2E3FC;\n",
              "    }\n",
              "\n",
              "    [theme=dark] .colab-df-convert:hover {\n",
              "      background-color: #434B5C;\n",
              "      box-shadow: 0px 1px 3px 1px rgba(0, 0, 0, 0.15);\n",
              "      filter: drop-shadow(0px 1px 2px rgba(0, 0, 0, 0.3));\n",
              "      fill: #FFFFFF;\n",
              "    }\n",
              "  </style>\n",
              "\n",
              "    <script>\n",
              "      const buttonEl =\n",
              "        document.querySelector('#df-ebee95bc-4d3f-4732-b0f6-5a6ebcc1aa59 button.colab-df-convert');\n",
              "      buttonEl.style.display =\n",
              "        google.colab.kernel.accessAllowed ? 'block' : 'none';\n",
              "\n",
              "      async function convertToInteractive(key) {\n",
              "        const element = document.querySelector('#df-ebee95bc-4d3f-4732-b0f6-5a6ebcc1aa59');\n",
              "        const dataTable =\n",
              "          await google.colab.kernel.invokeFunction('convertToInteractive',\n",
              "                                                    [key], {});\n",
              "        if (!dataTable) return;\n",
              "\n",
              "        const docLinkHtml = 'Like what you see? Visit the ' +\n",
              "          '<a target=\"_blank\" href=https://colab.research.google.com/notebooks/data_table.ipynb>data table notebook</a>'\n",
              "          + ' to learn more about interactive tables.';\n",
              "        element.innerHTML = '';\n",
              "        dataTable['output_type'] = 'display_data';\n",
              "        await google.colab.output.renderOutput(dataTable, element);\n",
              "        const docLink = document.createElement('div');\n",
              "        docLink.innerHTML = docLinkHtml;\n",
              "        element.appendChild(docLink);\n",
              "      }\n",
              "    </script>\n",
              "  </div>\n",
              "\n",
              "\n",
              "<div id=\"df-188fc5db-7021-4b8d-840e-04a67348ed1c\">\n",
              "  <button class=\"colab-df-quickchart\" onclick=\"quickchart('df-188fc5db-7021-4b8d-840e-04a67348ed1c')\"\n",
              "            title=\"Suggest charts\"\n",
              "            style=\"display:none;\">\n",
              "\n",
              "<svg xmlns=\"http://www.w3.org/2000/svg\" height=\"24px\"viewBox=\"0 0 24 24\"\n",
              "     width=\"24px\">\n",
              "    <g>\n",
              "        <path d=\"M19 3H5c-1.1 0-2 .9-2 2v14c0 1.1.9 2 2 2h14c1.1 0 2-.9 2-2V5c0-1.1-.9-2-2-2zM9 17H7v-7h2v7zm4 0h-2V7h2v10zm4 0h-2v-4h2v4z\"/>\n",
              "    </g>\n",
              "</svg>\n",
              "  </button>\n",
              "\n",
              "<style>\n",
              "  .colab-df-quickchart {\n",
              "      --bg-color: #E8F0FE;\n",
              "      --fill-color: #1967D2;\n",
              "      --hover-bg-color: #E2EBFA;\n",
              "      --hover-fill-color: #174EA6;\n",
              "      --disabled-fill-color: #AAA;\n",
              "      --disabled-bg-color: #DDD;\n",
              "  }\n",
              "\n",
              "  [theme=dark] .colab-df-quickchart {\n",
              "      --bg-color: #3B4455;\n",
              "      --fill-color: #D2E3FC;\n",
              "      --hover-bg-color: #434B5C;\n",
              "      --hover-fill-color: #FFFFFF;\n",
              "      --disabled-bg-color: #3B4455;\n",
              "      --disabled-fill-color: #666;\n",
              "  }\n",
              "\n",
              "  .colab-df-quickchart {\n",
              "    background-color: var(--bg-color);\n",
              "    border: none;\n",
              "    border-radius: 50%;\n",
              "    cursor: pointer;\n",
              "    display: none;\n",
              "    fill: var(--fill-color);\n",
              "    height: 32px;\n",
              "    padding: 0;\n",
              "    width: 32px;\n",
              "  }\n",
              "\n",
              "  .colab-df-quickchart:hover {\n",
              "    background-color: var(--hover-bg-color);\n",
              "    box-shadow: 0 1px 2px rgba(60, 64, 67, 0.3), 0 1px 3px 1px rgba(60, 64, 67, 0.15);\n",
              "    fill: var(--button-hover-fill-color);\n",
              "  }\n",
              "\n",
              "  .colab-df-quickchart-complete:disabled,\n",
              "  .colab-df-quickchart-complete:disabled:hover {\n",
              "    background-color: var(--disabled-bg-color);\n",
              "    fill: var(--disabled-fill-color);\n",
              "    box-shadow: none;\n",
              "  }\n",
              "\n",
              "  .colab-df-spinner {\n",
              "    border: 2px solid var(--fill-color);\n",
              "    border-color: transparent;\n",
              "    border-bottom-color: var(--fill-color);\n",
              "    animation:\n",
              "      spin 1s steps(1) infinite;\n",
              "  }\n",
              "\n",
              "  @keyframes spin {\n",
              "    0% {\n",
              "      border-color: transparent;\n",
              "      border-bottom-color: var(--fill-color);\n",
              "      border-left-color: var(--fill-color);\n",
              "    }\n",
              "    20% {\n",
              "      border-color: transparent;\n",
              "      border-left-color: var(--fill-color);\n",
              "      border-top-color: var(--fill-color);\n",
              "    }\n",
              "    30% {\n",
              "      border-color: transparent;\n",
              "      border-left-color: var(--fill-color);\n",
              "      border-top-color: var(--fill-color);\n",
              "      border-right-color: var(--fill-color);\n",
              "    }\n",
              "    40% {\n",
              "      border-color: transparent;\n",
              "      border-right-color: var(--fill-color);\n",
              "      border-top-color: var(--fill-color);\n",
              "    }\n",
              "    60% {\n",
              "      border-color: transparent;\n",
              "      border-right-color: var(--fill-color);\n",
              "    }\n",
              "    80% {\n",
              "      border-color: transparent;\n",
              "      border-right-color: var(--fill-color);\n",
              "      border-bottom-color: var(--fill-color);\n",
              "    }\n",
              "    90% {\n",
              "      border-color: transparent;\n",
              "      border-bottom-color: var(--fill-color);\n",
              "    }\n",
              "  }\n",
              "</style>\n",
              "\n",
              "  <script>\n",
              "    async function quickchart(key) {\n",
              "      const quickchartButtonEl =\n",
              "        document.querySelector('#' + key + ' button');\n",
              "      quickchartButtonEl.disabled = true;  // To prevent multiple clicks.\n",
              "      quickchartButtonEl.classList.add('colab-df-spinner');\n",
              "      try {\n",
              "        const charts = await google.colab.kernel.invokeFunction(\n",
              "            'suggestCharts', [key], {});\n",
              "      } catch (error) {\n",
              "        console.error('Error during call to suggestCharts:', error);\n",
              "      }\n",
              "      quickchartButtonEl.classList.remove('colab-df-spinner');\n",
              "      quickchartButtonEl.classList.add('colab-df-quickchart-complete');\n",
              "    }\n",
              "    (() => {\n",
              "      let quickchartButtonEl =\n",
              "        document.querySelector('#df-188fc5db-7021-4b8d-840e-04a67348ed1c button');\n",
              "      quickchartButtonEl.style.display =\n",
              "        google.colab.kernel.accessAllowed ? 'block' : 'none';\n",
              "    })();\n",
              "  </script>\n",
              "</div>\n",
              "\n",
              "    </div>\n",
              "  </div>\n"
            ],
            "application/vnd.google.colaboratory.intrinsic+json": {
              "type": "dataframe",
              "summary": "{\n  \"name\": \"df[['Quantity', 'Discount', 'Sales', 'Profit']]\",\n  \"rows\": 8,\n  \"fields\": [\n    {\n      \"column\": \"Quantity\",\n      \"properties\": {\n        \"dtype\": \"number\",\n        \"std\": 3531.848471644344,\n        \"min\": 1.0,\n        \"max\": 9994.0,\n        \"num_unique_values\": 8,\n        \"samples\": [\n          3.789573744246548,\n          3.0,\n          9994.0\n        ],\n        \"semantic_type\": \"\",\n        \"description\": \"\"\n      }\n    },\n    {\n      \"column\": \"Discount\",\n      \"properties\": {\n        \"dtype\": \"number\",\n        \"std\": 3533.3336684667293,\n        \"min\": 0.0,\n        \"max\": 9994.0,\n        \"num_unique_values\": 6,\n        \"samples\": [\n          9994.0,\n          0.15620272163297977,\n          0.8\n        ],\n        \"semantic_type\": \"\",\n        \"description\": \"\"\n      }\n    },\n    {\n      \"column\": \"Sales\",\n      \"properties\": {\n        \"dtype\": \"number\",\n        \"std\": 8197.010918685499,\n        \"min\": 0.444,\n        \"max\": 22638.48,\n        \"num_unique_values\": 8,\n        \"samples\": [\n          229.85800083049833,\n          54.489999999999995,\n          9994.0\n        ],\n        \"semantic_type\": \"\",\n        \"description\": \"\"\n      }\n    },\n    {\n      \"column\": \"Profit\",\n      \"properties\": {\n        \"dtype\": \"number\",\n        \"std\": 5288.326642672474,\n        \"min\": -6599.978,\n        \"max\": 9994.0,\n        \"num_unique_values\": 8,\n        \"samples\": [\n          28.65689630778467,\n          8.6665,\n          9994.0\n        ],\n        \"semantic_type\": \"\",\n        \"description\": \"\"\n      }\n    }\n  ]\n}"
            }
          },
          "metadata": {},
          "execution_count": 12
        }
      ]
    },
    {
      "cell_type": "code",
      "source": [
        "# Unique values in categorical columns\n",
        "df[['Category', 'Sub-Category', 'Segment', 'Region', 'Ship_Mode']].nunique()"
      ],
      "metadata": {
        "colab": {
          "base_uri": "https://localhost:8080/",
          "height": 241
        },
        "id": "z4QbEyjLAya5",
        "outputId": "6088ac75-84aa-4395-f46a-1ecbdd4f1aa1"
      },
      "execution_count": 11,
      "outputs": [
        {
          "output_type": "execute_result",
          "data": {
            "text/plain": [
              "Category         3\n",
              "Sub-Category    17\n",
              "Segment          3\n",
              "Region           4\n",
              "Ship_Mode        4\n",
              "dtype: int64"
            ],
            "text/html": [
              "<div>\n",
              "<style scoped>\n",
              "    .dataframe tbody tr th:only-of-type {\n",
              "        vertical-align: middle;\n",
              "    }\n",
              "\n",
              "    .dataframe tbody tr th {\n",
              "        vertical-align: top;\n",
              "    }\n",
              "\n",
              "    .dataframe thead th {\n",
              "        text-align: right;\n",
              "    }\n",
              "</style>\n",
              "<table border=\"1\" class=\"dataframe\">\n",
              "  <thead>\n",
              "    <tr style=\"text-align: right;\">\n",
              "      <th></th>\n",
              "      <th>0</th>\n",
              "    </tr>\n",
              "  </thead>\n",
              "  <tbody>\n",
              "    <tr>\n",
              "      <th>Category</th>\n",
              "      <td>3</td>\n",
              "    </tr>\n",
              "    <tr>\n",
              "      <th>Sub-Category</th>\n",
              "      <td>17</td>\n",
              "    </tr>\n",
              "    <tr>\n",
              "      <th>Segment</th>\n",
              "      <td>3</td>\n",
              "    </tr>\n",
              "    <tr>\n",
              "      <th>Region</th>\n",
              "      <td>4</td>\n",
              "    </tr>\n",
              "    <tr>\n",
              "      <th>Ship_Mode</th>\n",
              "      <td>4</td>\n",
              "    </tr>\n",
              "  </tbody>\n",
              "</table>\n",
              "</div><br><label><b>dtype:</b> int64</label>"
            ]
          },
          "metadata": {},
          "execution_count": 11
        }
      ]
    },
    {
      "cell_type": "code",
      "source": [
        "# Sales and profit trend over time\n",
        "df_sales_trend = df.groupby(['Year_Order', 'Order_Month']).agg({'Sales': 'sum', 'Profit': 'sum'}).reset_index()\n",
        "df_sales_trend.plot(x='Order_Month', y=['Sales', 'Profit'], kind='line')\n",
        "plt.show()"
      ],
      "metadata": {
        "colab": {
          "base_uri": "https://localhost:8080/",
          "height": 450
        },
        "id": "0mDWeaUeA3_k",
        "outputId": "954bb46f-7af0-4d1e-d6fe-e7a310e9ed81"
      },
      "execution_count": 13,
      "outputs": [
        {
          "output_type": "display_data",
          "data": {
            "text/plain": [
              "<Figure size 640x480 with 1 Axes>"
            ],
            "image/png": "[encoded data removed]"
          },
          "metadata": {}
        }
      ]
    },
    {
      "cell_type": "markdown",
      "source": [
        "**Sales and Profit Trends**\n",
        "\n",
        "The line graph illustrates the monthly trends in sales and profit, showing noticeable fluctuations over time. Sales exhibit high volatility, with several peaks and drops, indicating seasonal demand variations. Profit follows a similar pattern but remains consistently lower than sales, highlighting potential cost-related challenges.\n",
        "\n",
        "One key observation is the presence of sharp spikes in sales, suggesting periods of increased consumer demand. These fluctuations emphasize the importance of targeted marketing efforts during peak months to maximize revenue. Additionally, optimizing pricing strategies and cost management could help improve profit margins and create a more stable financial performance."
      ],
      "metadata": {
        "id": "wq-S7ENJC6Hk"
      }
    },
    {
      "cell_type": "code",
      "source": [
        "#Category-wise sales and profit\n",
        "df_category_sales_profit = df.groupby('Category').agg({'Sales': 'sum', 'Profit': 'sum'}).reset_index()\n",
        "df_category_sales_profit.plot(x='Category', y=['Sales', 'Profit'], kind='bar')\n",
        "plt.show()  # Display the plot"
      ],
      "metadata": {
        "colab": {
          "base_uri": "https://localhost:8080/",
          "height": 539
        },
        "id": "2Go59YmRBIa3",
        "outputId": "e4bad51b-bbf1-4f2a-fa31-3f86af468676"
      },
      "execution_count": 14,
      "outputs": [
        {
          "output_type": "display_data",
          "data": {
            "text/plain": [
              "<Figure size 640x480 with 1 Axes>"
            ],
            "image/png": "[encoded data removed]"
          },
          "metadata": {}
        }
      ]
    },
    {
      "cell_type": "markdown",
      "source": [
        "**Product Category Analysis**\n",
        "\n",
        "The bar chart compares total sales and profit for each product category, providing insights into their performance. The Technology category records the highest total sales, exceeding $800,000, with a strong profit contribution. Meanwhile, Office Supplies has slightly lower sales than Furniture but achieves a higher profit margin, making it a more profitable category. In contrast, the Furniture category, despite having high sales, generates the lowest profit, indicating higher costs or lower margins.\n",
        "\n",
        "These insights highlight the need for strategic decision-making. The Technology category should be prioritized due to its strong revenue and profitability. Additionally, Furniture requires pricing adjustments or cost optimization to improve margins, while Office Supplies remains a balanced performer with both stable sales and profit potential."
      ],
      "metadata": {
        "id": "K1NntkI4C8FT"
      }
    },
    {
      "cell_type": "code",
      "source": [
        "# Histogram of Sales\n",
        "plt.hist(df['Sales'])\n",
        "plt.xlabel('Sales')\n",
        "plt.ylabel('Frequency')\n",
        "plt.title('Distribution of Sales')\n",
        "plt.show()"
      ],
      "metadata": {
        "colab": {
          "base_uri": "https://localhost:8080/",
          "height": 472
        },
        "id": "5bON2F83CIhI",
        "outputId": "8aaba7e4-3f55-4f5a-cf5e-0103f9d52055"
      },
      "execution_count": 15,
      "outputs": [
        {
          "output_type": "display_data",
          "data": {
            "text/plain": [
              "<Figure size 640x480 with 1 Axes>"
            ],
            "image/png": "[encoded data removed]"
          },
          "metadata": {}
        }
      ]
    },
    {
      "cell_type": "markdown",
      "source": [
        "**Sales Distribution**\n",
        "\n",
        "The histogram illustrates the distribution of sales values, showing how frequently different sales amounts occur. The data reveals that most transactions are highly concentrated in the lower sales range, with the majority falling below $5,000. There are very few transactions exceeding $10,000, indicating that high-value sales are rare.\n",
        "\n",
        "This distribution suggests that most sales come from smaller transactions, while large sales occur infrequently. To improve revenue, businesses could explore strategies such as upselling, bundling, or targeting high-value customers to increase the number of larger transactions."
      ],
      "metadata": {
        "id": "AIQ-ZbxUDBB1"
      }
    },
    {
      "cell_type": "code",
      "source": [
        "# Box plot of Profit by Category\n",
        "sns.boxplot(x='Category', y='Profit', data=df)\n",
        "plt.title('Profit Distribution by Category')\n",
        "plt.show()"
      ],
      "metadata": {
        "colab": {
          "base_uri": "https://localhost:8080/",
          "height": 472
        },
        "id": "C4L1JYC7CO-z",
        "outputId": "bc9b6c52-d0c4-4fcb-ff48-36100f91920a"
      },
      "execution_count": 16,
      "outputs": [
        {
          "output_type": "display_data",
          "data": {
            "text/plain": [
              "<Figure size 640x480 with 1 Axes>"
            ],
            "image/png": "[encoded data removed]"
          },
          "metadata": {}
        }
      ]
    },
    {
      "cell_type": "markdown",
      "source": [
        "**Profit Analysis by Category**\n",
        "\n",
        "he box plot illustrates the profit distribution across different product categories, revealing key patterns in profitability. The presence of numerous outliers in all categories suggests significant variation in individual transaction profits. Among the three categories, Technology shows the widest spread, indicating that while some products generate high profits, others result in losses.\n",
        "\n",
        "The Office Supplies and Furniture categories display similar distributions, with profits largely concentrated around the median but still containing several extreme values. Additionally, the presence of negative outliers across all categories suggests that certain transactions resulted in losses, potentially due to discount strategies, high costs, or ineffective pricing models.\n",
        "\n",
        "These insights highlight the inconsistent profitability among product categories. Businesses should explore pricing optimization, targeted promotions, and a focus on high-margin products to enhance overall profitability and minimize losses."
      ],
      "metadata": {
        "id": "QJHkmWrUDG25"
      }
    },
    {
      "cell_type": "code",
      "source": [
        "# Scatter plot of Discount vs. Profit\n",
        "plt.figure(figsize=(10, 5))\n",
        "sns.scatterplot(x='Discount', y='Profit', data=df)\n",
        "plt.title('Discount vs. Profit')\n",
        "plt.show()"
      ],
      "metadata": {
        "colab": {
          "base_uri": "https://localhost:8080/",
          "height": 487
        },
        "id": "5jGnrfNxDHy9",
        "outputId": "a6824a08-c679-4cbf-f364-bb7a44a7fc9c"
      },
      "execution_count": 17,
      "outputs": [
        {
          "output_type": "display_data",
          "data": {
            "text/plain": [
              "<Figure size 1000x500 with 1 Axes>"
            ],
            "image/png": "[encoded data removed]"
          },
          "metadata": {}
        }
      ]
    },
    {
      "cell_type": "markdown",
      "source": [
        "**Relationship Between Discounts and Profit**\n",
        "\n",
        "The scatter plot visualizes the relationship between discount rates and profit, showing how different levels of discounts influence profitability. The general trend suggests that higher discounts often lead to lower profits, with some transactions even resulting in negative profits. This indicates that excessive discounting may erode profit margins significantly.\n",
        "\n",
        "However, a few high-discount transactions still yield considerable profits, suggesting that certain products or customer segments respond well to discount strategies. This highlights the complex nature of discounting, where factors such as product type, demand elasticity, and pricing structure play a crucial role in determining profitability.\n",
        "\n",
        "Insights from this analysis emphasize the need for a balanced discounting strategy. Businesses should consider targeted discounts that attract customers without heavily compromising profit, such as volume-based discounts, loyalty programs, or limited-time offers."
      ],
      "metadata": {
        "id": "FjWCddFfDUpZ"
      }
    },
    {
      "cell_type": "code",
      "source": [
        "# Save the DataFrame back to an Excel file\n",
        "df.to_excel('superstore_data_updated.xlsx', index=False)"
      ],
      "metadata": {
        "id": "h1w6FiItEDJ8"
      },
      "execution_count": null,
      "outputs": []
    },
    {
      "cell_type": "markdown",
      "source": [
        "# **Conclusion & Suggestions**"
      ],
      "metadata": {
        "id": "gnmde82zfbsE"
      }
    },
    {
      "cell_type": "markdown",
      "source": [
        "**Conclusion**\n",
        "\n",
        "The analysis reveals that the \"Technology\" category has the highest profit potential, followed by \"Office Supplies\" and \"Furniture\" with more moderate profitability. The seasonal sales pattern indicates that sales and profit tend to peak towards the end of the year, highlighting the importance of aggressive marketing strategies during this period to maximize revenue.\n",
        "\n",
        "Additionally, the negative correlation between discounts and profit suggests that uncontrolled discounting can significantly reduce profitability. However, some high-discount transactions still yield considerable profits, indicating that a more strategic approach to discounting is necessary. Businesses should optimize discount strategies by targeting specific products or customer segments to enhance profitability while maintaining competitive pricing.\n",
        "\n",
        "These insights form a solid foundation for data-driven decision-making, enabling businesses to enhance category performance, align marketing efforts with seasonal trends, and refine discounting strategies to sustain profitability."
      ],
      "metadata": {
        "id": "UVUiLtchfjWx"
      }
    },
    {
      "cell_type": "markdown",
      "source": [
        "**Suggestion**\n",
        "\n",
        "1. Optimize \"Office Supplies\" Category Performance – Implement targeted marketing campaigns and strategic promotions to enhance sales in this category, as it shows potential for growth.\n",
        "\n",
        "2. Enhance Profitability in \"Furniture\" and \"Technology\" – Conduct a pricing and procurement review to maximize profit margins, ensuring competitive yet profitable pricing strategies.\n",
        "\n",
        "3. Refine Discount Strategies – Apply data-driven discounting by analyzing its impact on profitability. Discounts should be used selectively to attract customers without significantly reducing overall profits.\n",
        "\n",
        "4. Implement Customer Retention Initiatives – Develop a customer loyalty program to encourage repeat purchases, particularly in the most profitable categories, ensuring sustained revenue growth and improved customer engagement."
      ],
      "metadata": {
        "id": "2DO3EhDUfpIM"
      }
    }
  ]
}